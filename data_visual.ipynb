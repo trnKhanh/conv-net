{
 "cells": [
  {
   "cell_type": "code",
   "execution_count": 37,
   "id": "5a304895-e02a-444f-ad3b-13684130948a",
   "metadata": {},
   "outputs": [],
   "source": [
    "from dataset import get_dataset\n",
    "from torchvision.datasets import Caltech101\n",
    "import matplotlib.pyplot as plt\n",
    "\n",
    "from PIL import Image"
   ]
  },
  {
   "cell_type": "code",
   "execution_count": 47,
   "id": "adc13db2-434d-48a3-abda-e7236232884c",
   "metadata": {},
   "outputs": [],
   "source": [
    "dataset = Caltech101(\"data\", download=False)\n",
    "class_map = dataset.categories"
   ]
  },
  {
   "cell_type": "code",
   "execution_count": 48,
   "id": "c8ebaf7c-4730-4724-9431-f5a3b7f4f301",
   "metadata": {},
   "outputs": [
    {
     "data": {
      "text/plain": [
       "(<PIL.JpegImagePlugin.JpegImageFile image mode=RGB size=128x192>, 'Leopards')"
      ]
     },
     "execution_count": 48,
     "metadata": {},
     "output_type": "execute_result"
    }
   ],
   "source": [
    "dataset[1000][0], class_map[dataset[1000][1]]"
   ]
  },
  {
   "cell_type": "code",
   "execution_count": 19,
   "id": "12a2d9a1-4d49-4aeb-bc7d-78dd224bb455",
   "metadata": {},
   "outputs": [
    {
     "ename": "AttributeError",
     "evalue": "'Subset' object has no attribute 'categories'",
     "output_type": "error",
     "traceback": [
      "\u001b[0;31m---------------------------------------------------------------------------\u001b[0m",
      "\u001b[0;31mAttributeError\u001b[0m                            Traceback (most recent call last)",
      "Cell \u001b[0;32mIn[19], line 1\u001b[0m\n\u001b[0;32m----> 1\u001b[0m train_dataset\u001b[38;5;241m.\u001b[39mcategories\n",
      "\u001b[0;31mAttributeError\u001b[0m: 'Subset' object has no attribute 'categories'"
     ]
    }
   ],
   "source": [
    "train_dataset.categories"
   ]
  },
  {
   "cell_type": "code",
   "execution_count": null,
   "id": "e32b1511-d7f0-4455-ac69-c78aec1eac01",
   "metadata": {},
   "outputs": [],
   "source": []
  }
 ],
 "metadata": {
  "kernelspec": {
   "display_name": "Python 3 (ipykernel)",
   "language": "python",
   "name": "python3"
  },
  "language_info": {
   "codemirror_mode": {
    "name": "ipython",
    "version": 3
   },
   "file_extension": ".py",
   "mimetype": "text/x-python",
   "name": "python",
   "nbconvert_exporter": "python",
   "pygments_lexer": "ipython3",
   "version": "3.12.2"
  }
 },
 "nbformat": 4,
 "nbformat_minor": 5
}
