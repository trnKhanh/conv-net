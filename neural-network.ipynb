{
 "cells": [
  {
   "cell_type": "code",
   "execution_count": 7,
   "id": "7e7c663b-cd62-4ab9-beab-4026fb51a979",
   "metadata": {},
   "outputs": [],
   "source": [
    "import torch\n",
    "import torchvision\n",
    "import torchvision.transforms as transforms\n",
    "from torch import nn\n",
    "\n",
    "from PIL import Image\n",
    "import numpy as np\n",
    "import idx2numpy"
   ]
  },
  {
   "cell_type": "code",
   "execution_count": 28,
   "id": "5138e2d1-3e93-4570-8b92-a4c556cea62b",
   "metadata": {},
   "outputs": [],
   "source": [
    "images = idx2numpy.convert_from_file(\"data/MNIST/raw/train-images-idx3-ubyte\")\n",
    "labels = idx2numpy.convert_from_file(\"data/MNIST/raw/train-labels-idx1-ubyte\")"
   ]
  },
  {
   "cell_type": "code",
   "execution_count": 27,
   "id": "31753c8f-3895-40b8-bd14-39f6a3df77d4",
   "metadata": {},
   "outputs": [
    {
     "data": {
      "image/jpeg": "[encoded data removed]",
      "image/png": "[encoded data removed]",
      "text/plain": [
       "<PIL.Image.Image image mode=L size=28x28>"
      ]
     },
     "execution_count": 27,
     "metadata": {},
     "output_type": "execute_result"
    }
   ],
   "source": [
    "Image.fromarray(images[4])"
   ]
  },
  {
   "cell_type": "code",
   "execution_count": 26,
   "id": "8c7010af-f4d4-43d6-82c1-b239c67e4c17",
   "metadata": {},
   "outputs": [
    {
     "data": {
      "text/plain": [
       "9"
      ]
     },
     "execution_count": 26,
     "metadata": {},
     "output_type": "execute_result"
    }
   ],
   "source": [
    "labels[4]"
   ]
  },
  {
   "cell_type": "code",
   "execution_count": 38,
   "id": "3db3b76a-db2a-4d2d-9f3c-3c82726740ba",
   "metadata": {},
   "outputs": [],
   "source": [
    "a = [np.zeros((2, 2)), np.ones((2, 2))]"
   ]
  },
  {
   "cell_type": "code",
   "execution_count": 39,
   "id": "fbb62d6d-8bf2-4b86-9281-5ab02b724ab5",
   "metadata": {},
   "outputs": [
    {
     "data": {
      "text/plain": [
       "(2, 2, 2)"
      ]
     },
     "execution_count": 39,
     "metadata": {},
     "output_type": "execute_result"
    }
   ],
   "source": [
    "np.stack(a).shape"
   ]
  },
  {
   "cell_type": "code",
   "execution_count": null,
   "id": "ff1552d7-1dfb-4a4a-b1fd-ec62d2eb6ab8",
   "metadata": {},
   "outputs": [],
   "source": []
  }
 ],
 "metadata": {
  "kernelspec": {
   "display_name": "Python 3 (ipykernel)",
   "language": "python",
   "name": "python3"
  },
  "language_info": {
   "codemirror_mode": {
    "name": "ipython",
    "version": 3
   },
   "file_extension": ".py",
   "mimetype": "text/x-python",
   "name": "python",
   "nbconvert_exporter": "python",
   "pygments_lexer": "ipython3",
   "version": "3.12.2"
  }
 },
 "nbformat": 4,
 "nbformat_minor": 5
}
